{
 "cells": [
  {
   "cell_type": "markdown",
   "metadata": {},
   "source": [
    "## Importar librerías necesarias"
   ]
  },
  {
   "cell_type": "code",
   "execution_count": null,
   "metadata": {},
   "outputs": [],
   "source": [
    "import numpy as np\n",
    "import matplotlib.pyplot as plt\n",
    "import seaborn as sns"
   ]
  },
  {
   "cell_type": "markdown",
   "metadata": {},
   "source": [
    "## 2. Inspección y Limpieza del set de datos"
   ]
  },
  {
   "cell_type": "code",
   "execution_count": null,
   "metadata": {},
   "outputs": [],
   "source": [
    "%run 2-Inspeccion_y_Limpieza.ipynb"
   ]
  },
  {
   "cell_type": "markdown",
   "metadata": {},
   "source": [
    "## 3.EDA"
   ]
  },
  {
   "cell_type": "markdown",
   "metadata": {},
   "source": [
    "### Valores nulos"
   ]
  },
  {
   "cell_type": "markdown",
   "metadata": {},
   "source": [
    "Verificamos si existen valores nulos explícitos en cada variable."
   ]
  },
  {
   "cell_type": "code",
   "execution_count": null,
   "metadata": {},
   "outputs": [],
   "source": [
    "print(\"Valores nulos por columna:\")\n",
    "print(df_income.isnull().sum())"
   ]
  },
  {
   "cell_type": "markdown",
   "metadata": {},
   "source": [
    "**Observación**\n",
    "\n",
    "Aparentemente no hay valores nulos explícitos, pero da la posibilidad de tener valores nulos implícitos como:\n",
    "- Valores fuera del rango lógico de cada variable _(Ej: Una edad negativa no es posible)_\n",
    "- Discrepancias en mayúsculas/minúsculas _(Ej: Male o male)_\n",
    "- Espacios en blanco o caracteres invisibles\n",
    "- Codificacíón de las missing _(Ej: -99, missing, unknow, ...)_"
   ]
  },
  {
   "cell_type": "markdown",
   "metadata": {},
   "source": [
    "En la exploración de los valores únicos presentes en cada categoría, vimos que algunos tienen una clase incognita \"?\" por lo que esto es una clara referencia a una codificación de valores nulos.\n",
    "Por ello, vamos a darle un valor explícito y ver que podemos hacer con estos valores."
   ]
  },
  {
   "cell_type": "code",
   "execution_count": null,
   "metadata": {},
   "outputs": [],
   "source": [
    "# Reemplazar los valores '?' por NaN\n",
    "df_income.replace('?', np.nan, inplace=True)"
   ]
  },
  {
   "cell_type": "code",
   "execution_count": null,
   "metadata": {},
   "outputs": [],
   "source": [
    "# Contar los valores faltantes en cada columna\n",
    "missing_values = df_income.isnull().sum()\n",
    "\n",
    "# Filtrar las columnas que tienen valores faltantes\n",
    "missing_columns = missing_values[missing_values > 0]\n",
    "\n",
    "# Visualizar los valores faltantes\n",
    "plt.figure(figsize=(8, 5))\n",
    "ax = sns.barplot(x=missing_columns.index, y=missing_columns.values, palette=\"viridis\")\n",
    "plt.title('Número de Valores Faltantes por Columna')\n",
    "plt.xlabel('Columnas')\n",
    "plt.ylabel('Número de Valores Faltantes')\n",
    "plt.xticks(rotation=45)\n",
    "\n",
    "# Agregar anotaciones encima de cada barra\n",
    "for p in ax.patches:\n",
    "    ax.annotate(format(p.get_height(), '.0f'), \n",
    "                (p.get_x() + p.get_width() / 2., p.get_height()), \n",
    "                ha = 'center', va = 'center', \n",
    "                xytext = (0, 9), \n",
    "                textcoords = 'offset points')\n",
    "\n",
    "plt.show()"
   ]
  },
  {
   "cell_type": "code",
   "execution_count": null,
   "metadata": {},
   "outputs": [],
   "source": [
    "import missingno\n",
    "\n",
    "missingno.matrix(df_income.sort_values('Ocupación'))"
   ]
  },
  {
   "cell_type": "markdown",
   "metadata": {},
   "source": [
    "Aparentemente hay una correlación entre Clase_Obrera y Ocupación, siendo esto una clara sugerencia de una dependencia lógica, es decir, cuando no se registra la clase obrera de una persona, tampoco se registra su ocupación.\n",
    "- Este patrón podría indicar que estos campos se llenan juntos en el proceso de recolección de datos, o que conceptualmente están tan relacionados que cuando falta uno, naturalmente falta el otro.\n",
    "\n",
    "Pero, si observamos la cantidad de valores faltantes de estas dos variables veremos que la Ocupación tiene 10 registros más de valores faltantes a comparación de la Clase_Obrera, pudiendo tal vez no ser del todo cierto la dependencia lógica. Sin embargo, vamos a asumir en primera instancia este comportamiento.\n",
    "\n",
    "Además, la variable País_de_origen que también tiene valores faltantes aparantemente sus registros no siguen algún patron visual, pudiendo tratarse a estos valores nulos como un patron de tipo MCAR."
   ]
  },
  {
   "cell_type": "markdown",
   "metadata": {},
   "source": [
    "### Análisis univariado"
   ]
  },
  {
   "cell_type": "code",
   "execution_count": null,
   "metadata": {},
   "outputs": [],
   "source": [
    "import plotly.express as px\n",
    "\n",
    "# Definimos las columnas categóricas\n",
    "categorical_columns = df_income.select_dtypes(include=['object']).columns\n",
    "\n",
    "# Reemplazar los valores nulos en variables categóricas con 'NaN'\n",
    "df_income[categorical_columns] = df_income[categorical_columns].fillna('NaN')\n",
    "\n",
    "# Verificar valores únicos y su frecuencia para variables categóricas\n",
    "for column in categorical_columns:\n",
    "    # Graficar los valores únicos y su frecuencia\n",
    "    value_counts = df_income[column].value_counts(dropna=False).reset_index()\n",
    "    value_counts.columns = [column, 'Frecuencia']\n",
    "    value_counts['Color'] = value_counts[column].apply(lambda x: 'red' if x == 'NaN' else 'blue')\n",
    "    \n",
    "    fig = px.bar(value_counts, x=column, y='Frecuencia', color='Color', \n",
    "                 title=f'Frecuencia de valores únicos en {column}', \n",
    "                 labels={column: column, 'Frecuencia': 'Frecuencia'})\n",
    "    fig.update_layout(xaxis={'categoryorder':'total descending'})\n",
    "    fig.show()"
   ]
  },
  {
   "cell_type": "code",
   "execution_count": null,
   "metadata": {},
   "outputs": [],
   "source": [
    "# Visualización de distribuciones\n",
    "fig, axes = plt.subplots(3, 2, figsize=(15, 12))\n",
    "sns.histplot(data=df_income, x='Edad', ax=axes[0,0], kde=True)\n",
    "sns.histplot(data=df_income, x='Nivel_Educativo', ax=axes[0,1], kde=True)\n",
    "sns.histplot(data=df_income, x='Ganancia_de_capital', ax=axes[1,0], kde=True)\n",
    "sns.histplot(data=df_income, x='Pérdida_de_capital', ax=axes[1,1], kde=True)\n",
    "sns.histplot(data=df_income, x='Horas_semanales', ax=axes[2,0], kde=True)\n",
    "plt.tight_layout()\n",
    "plt.show()"
   ]
  },
  {
   "cell_type": "code",
   "execution_count": null,
   "metadata": {},
   "outputs": [],
   "source": [
    "# Seleccionar solo las columnas numéricas\n",
    "numeric_columns = df_income.select_dtypes(include=['int64', 'float64']).columns\n",
    "\n",
    "# Crear el gráfico de caja para cada columna numérica\n",
    "df_income[numeric_columns].hist(figsize=(15, 10), bins=15, color='skyblue', edgecolor='black', linewidth=1.0)\n",
    "plt.title('Gráfico de Caja de las Variables Numéricas')\n",
    "plt.xticks(rotation=45)\n",
    "plt.show()"
   ]
  },
  {
   "cell_type": "markdown",
   "metadata": {},
   "source": [
    "### Análisis bivariado"
   ]
  },
  {
   "cell_type": "code",
   "execution_count": null,
   "metadata": {},
   "outputs": [],
   "source": [
    "# Relación entre variables numéricas y el target (Ingresos)\n",
    "fig, axes = plt.subplots(3, 2, figsize=(15, 10))\n",
    "sns.boxplot(data=df_income, x='Ingresos', y='Edad', ax=axes[0,0])\n",
    "sns.boxplot(data=df_income, x='Ingresos', y='Horas_semanales', ax=axes[0,1])\n",
    "sns.boxplot(data=df_income, x='Ingresos', y='Ganancia_de_capital', ax=axes[1,0])\n",
    "sns.boxplot(data=df_income, x='Ingresos', y='Pérdida_de_capital', ax=axes[1,1])\n",
    "sns.boxplot(data=df_income, x='Ingresos', y='Nivel_Educativo', ax=axes[2,0])\n",
    "plt.tight_layout()\n",
    "plt.show()\n",
    "\n",
    "# Calculamos la matriz de correlación\n",
    "(\n",
    "    df_income\n",
    "    .replace(['<=50K', '>50K'], [0, 1])\n",
    "    .corr(numeric_only=True)\n",
    "    .pipe(\n",
    "        lambda df: \n",
    "        sns.heatmap(\n",
    "            df,\n",
    "            annot=True,\n",
    "            fmt=\".2f\",\n",
    "            cmap='coolwarm',\n",
    "            cbar=True,\n",
    "            square=True\n",
    "        )\n",
    "    )\n",
    ")"
   ]
  },
  {
   "cell_type": "code",
   "execution_count": null,
   "metadata": {},
   "outputs": [],
   "source": [
    "for columna in categorical_columns.drop('Ingresos'):\n",
    "    (\n",
    "        pd.crosstab(\n",
    "            df_income[columna], \n",
    "            df_income['Ingresos'], \n",
    "            normalize='index'\n",
    "        )\n",
    "        .sort_values(\n",
    "            ['<=50K', '>50K'], \n",
    "            ascending=False\n",
    "        )\n",
    "        .plot(\n",
    "            kind='barh', \n",
    "            figsize=(12, 10)\n",
    "        )\n",
    "    )\n",
    "    plt.title(f'Tasa de Ingresos por {columna}')\n",
    "    # plt.xticks(rotation=90, fontsize=16)\n",
    "    plt.legend(loc='center left', bbox_to_anchor=(1, 0.5))\n",
    "    plt.show()"
   ]
  },
  {
   "cell_type": "markdown",
   "metadata": {},
   "source": [
    "### Eliminar los registros nulos (Opción 1 - NO óptima)"
   ]
  },
  {
   "cell_type": "code",
   "execution_count": null,
   "metadata": {},
   "outputs": [],
   "source": [
    "print('Regitros antes de eliminar los valores faltantes:', df_income.shape[0])\n",
    "df_income.replace('NaN', np.nan, inplace=True)\n",
    "df_income.dropna(inplace=True)\n",
    "print('Regitros después de eliminar los valores faltantes:', df_income.shape[0])"
   ]
  },
  {
   "cell_type": "markdown",
   "metadata": {},
   "source": [
    "### Especificar una nueva categoría para los registros nulos (Opción 2 - NO óptima)"
   ]
  },
  {
   "cell_type": "code",
   "execution_count": null,
   "metadata": {},
   "outputs": [],
   "source": [
    "# # Ponemos los valores nulos de forma explícita\n",
    "# df_income.replace('NaN', np.nan, inplace=True)\n",
    "\n",
    "# # Reemplazar los valores nulos en variables categóricas con 'Missing'\n",
    "# df_income[categorical_columns] = df_income[categorical_columns].fillna('Missing')\n",
    "\n",
    "# # Verificar la codificación\n",
    "# df_income[categorical_columns].head()"
   ]
  },
  {
   "cell_type": "markdown",
   "metadata": {},
   "source": [
    "### Imputar los registros nulos (Opción 3 - Óptima)"
   ]
  }
 ],
 "metadata": {
  "kernelspec": {
   "display_name": "env_platzi",
   "language": "python",
   "name": "python3"
  },
  "language_info": {
   "name": "python",
   "version": "3.11.9"
  }
 },
 "nbformat": 4,
 "nbformat_minor": 2
}
