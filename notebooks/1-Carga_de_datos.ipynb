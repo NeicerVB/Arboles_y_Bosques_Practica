{
 "cells": [
  {
   "cell_type": "markdown",
   "metadata": {},
   "source": [
    "## Importar librerías necesarias"
   ]
  },
  {
   "cell_type": "code",
   "execution_count": null,
   "metadata": {},
   "outputs": [],
   "source": [
    "import os\n",
    "import pandas as pd"
   ]
  },
  {
   "cell_type": "markdown",
   "metadata": {},
   "source": [
    "## 1. Carga de datos"
   ]
  },
  {
   "cell_type": "code",
   "execution_count": null,
   "metadata": {},
   "outputs": [],
   "source": [
    "# Definimos la ruta de los archivos\n",
    "train_path = os.path.join('..', 'data', 'raw', 'adult_train.csv')\n",
    "test_path = os.path.join('..', 'data', 'raw', 'adult_test.csv')\n",
    "\n",
    "# Definimos los nombres de las columnas\n",
    "column_names = [\n",
    "    'Edad', 'Clase_Obrera', 'Peso_final', 'Educación', 'Nivel_Educativo', \n",
    "    'Estado_Civil', 'Ocupación', 'Relación', 'Raza', 'Sexo', \n",
    "    'Ganancia_de_capital', 'Pérdida_de_capital', 'Horas_semanales', \n",
    "    'País_de_origen', 'Ingresos'\n",
    "]\n",
    "\n",
    "# Cargamos los datos de train y test con los nombres de las columnas\n",
    "train_data = pd.read_csv(train_path, names=column_names)\n",
    "test_data = pd.read_csv(test_path, names=column_names, skiprows=1)"
   ]
  },
  {
   "cell_type": "code",
   "execution_count": null,
   "metadata": {},
   "outputs": [],
   "source": [
    "df_income = pd.concat([train_data, test_data])"
   ]
  }
 ],
 "metadata": {
  "kernelspec": {
   "display_name": "env_platzi",
   "language": "python",
   "name": "python3"
  },
  "language_info": {
   "name": "python",
   "version": "3.11.9"
  }
 },
 "nbformat": 4,
 "nbformat_minor": 2
}
